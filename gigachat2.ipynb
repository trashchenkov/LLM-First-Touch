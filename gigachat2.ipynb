{
  "nbformat": 4,
  "nbformat_minor": 0,
  "metadata": {
    "colab": {
      "provenance": [],
      "authorship_tag": "ABX9TyNdj8JI7+asnyL2ZnwnIp7E",
      "include_colab_link": true
    },
    "kernelspec": {
      "name": "python3",
      "display_name": "Python 3"
    },
    "language_info": {
      "name": "python"
    }
  },
  "cells": [
    {
      "cell_type": "markdown",
      "metadata": {
        "id": "view-in-github",
        "colab_type": "text"
      },
      "source": [
        "<a href=\"https://colab.research.google.com/github/trashchenkov/LLM-First-Touch/blob/main/gigachat2.ipynb\" target=\"_parent\"><img src=\"https://colab.research.google.com/assets/colab-badge.svg\" alt=\"Open In Colab\"/></a>"
      ]
    },
    {
      "cell_type": "code",
      "execution_count": null,
      "metadata": {
        "id": "4NcVSgPnfaqK"
      },
      "outputs": [],
      "source": [
        "!pip install -q langchain-gigachat"
      ]
    },
    {
      "cell_type": "code",
      "source": [
        "from langchain_gigachat.chat_models import GigaChat\n",
        "from google.colab import userdata\n",
        "from IPython.display import Markdown, display\n",
        "\n",
        "auth = userdata.get('SBER_AUTH')"
      ],
      "metadata": {
        "id": "nT38aNvbfmf3"
      },
      "execution_count": 1,
      "outputs": []
    },
    {
      "cell_type": "code",
      "source": [
        "llm2 = GigaChat(\n",
        "    credentials=auth,\n",
        "    verify_ssl_certs=False,\n",
        "    model='GigaChat-2'\n",
        ")\n",
        "\n",
        "llm1 = GigaChat(\n",
        "    credentials=auth,\n",
        "    verify_ssl_certs=False,\n",
        "    model='GigaChat-Pro'\n",
        ")"
      ],
      "metadata": {
        "id": "7vSftAqVfrMA"
      },
      "execution_count": 2,
      "outputs": []
    },
    {
      "cell_type": "code",
      "source": [
        "prompt1 = '''Продолжите последовательность:\n",
        "A, C, E, G, ?'''\n",
        "\n",
        "prompt2 = '''Брат в 2 раза старше сестры. Через 2 года он будет старше её в 1.5 раза.\n",
        "Сколько лет каждому сейчас?'''\n",
        "\n",
        "prompt3 = 'Напишите функцию, которая считает количество гласных букв (a, e, i, o, u) в строке.'\n",
        "\n",
        "prompt4 = 'Какой полуостров России омывается Охотским, Японским морями и Тихим океаном?'\n",
        "\n",
        "prompt5 = 'Объясни, что такое квантовая запутанность, так, чтобы понял школьник.'\n",
        "\n"
      ],
      "metadata": {
        "id": "417gPPI6lsrl"
      },
      "execution_count": 3,
      "outputs": []
    },
    {
      "cell_type": "code",
      "source": [
        "display(Markdown(llm1.invoke(prompt1).content))"
      ],
      "metadata": {
        "colab": {
          "base_uri": "https://localhost:8080/",
          "height": 157
        },
        "id": "iLc2ZfHelT5R",
        "outputId": "8a93c8e9-a62f-4e52-e5ec-9d45d200f5c5"
      },
      "execution_count": 4,
      "outputs": [
        {
          "output_type": "display_data",
          "data": {
            "text/plain": [
              "<IPython.core.display.Markdown object>"
            ],
            "text/markdown": "Следующим элементом этой последовательности является **I** (буква \"И\"). \n\nЭто последовательность четных чисел, записанных по порядку их названий в русском алфавите:  \nА = 2,  \nC = 4,  \nE = 6,  \nG = 8,  \nI = 10."
          },
          "metadata": {}
        }
      ]
    },
    {
      "cell_type": "code",
      "source": [
        "display(Markdown(llm2.invoke(prompt1).content))"
      ],
      "metadata": {
        "colab": {
          "base_uri": "https://localhost:8080/",
          "height": 70
        },
        "id": "VDqYJfmvmArk",
        "outputId": "48cd750c-1fb9-41b9-f686-5002f1db035e"
      },
      "execution_count": 5,
      "outputs": [
        {
          "output_type": "display_data",
          "data": {
            "text/plain": [
              "<IPython.core.display.Markdown object>"
            ],
            "text/markdown": "Последовательность состоит из букв алфавита, пропущенные буквы которых пропускаются через одну (пропускается одна буква). \n\nПервая буква — A (1-я), вторая — C (3-я), третья — E (5-я), четвертая — G (7-я).\nСледующая буква будет девятой по счету в алфавите, это I."
          },
          "metadata": {}
        }
      ]
    },
    {
      "cell_type": "code",
      "source": [
        "display(Markdown(llm1.invoke(prompt2).content))"
      ],
      "metadata": {
        "colab": {
          "base_uri": "https://localhost:8080/",
          "height": 450
        },
        "id": "BCme10A_mIHU",
        "outputId": "2e7db62c-1eff-41b7-8d1e-de9d48474542"
      },
      "execution_count": 6,
      "outputs": [
        {
          "output_type": "display_data",
          "data": {
            "text/plain": [
              "<IPython.core.display.Markdown object>"
            ],
            "text/markdown": "Обозначим возраст брата за $B$, а возраст сестры за $S$. Согласно условию задачи, мы имеем следующие два уравнения:\n\n1) $B = 2S$ (сейчас брат старше сестры в два раза),\n\n2) $B + 2 = 1.5(S + 2)$ (через два года брат будет старше сестры в полтора раза).\n\nТеперь подставим первое уравнение во второе и решим полученное уравнение относительно $S$:\n\n$$2S + 2 = 1.5(S + 2)$$\n\nРаскроем скобки и приведем подобные слагаемые:\n\n$$2S + 2 = 1.5S + 3$$\n\nПеренесем все слагаемые с переменной $S$ в одну часть уравнения, а числовые слагаемые – в другую:\n\n$$2S - 1.5S = 3 - 2$$\n\nУпростим получившееся уравнение:\n\n$$0.5S = 1$$\n\nОтсюда находим значение $S$:\n\n$$S = \\frac{1}{0.5} = 2$$\n\nТаким образом, сестре сейчас 2 года. Теперь найдем возраст брата, используя первое уравнение:\n\n$$B = 2S = 2 * 2 = 4$$\n\nИтак, брату сейчас 4 года."
          },
          "metadata": {}
        }
      ]
    },
    {
      "cell_type": "code",
      "source": [
        "display(Markdown(llm2.invoke(prompt2).content))"
      ],
      "metadata": {
        "colab": {
          "base_uri": "https://localhost:8080/",
          "height": 524
        },
        "id": "ZgVdbCmpo4Rz",
        "outputId": "c542a451-026e-4d32-9dff-819c2dec3b3a"
      },
      "execution_count": 7,
      "outputs": [
        {
          "output_type": "display_data",
          "data": {
            "text/plain": [
              "<IPython.core.display.Markdown object>"
            ],
            "text/markdown": "Пусть возраст брата равен $ x $, а возраст сестры — $ y $. По условию задачи мы имеем два уравнения:\n\n1. Брат в два раза старше сестры:  \n$$ x = 2y $$\n\n2. Через два года брат будет старше сестры в полтора раза:  \n$$ x + 2 = 1.5(y + 2) $$\n\nТеперь решим систему уравнений.\n\nПодставим выражение для $ x $ из первого уравнения во второе:\n\n$$ 2y + 2 = 1.5(y + 2) $$\n\nРаскроем скобки:\n\n$$ 2y + 2 = 1.5y + 3 $$\n\nПеренесём члены с переменными в одну сторону, а константы — в другую:\n\n$$ 2y - 1.5y = 3 - 2 $$\n\nУпростим:\n\n$$ 0.5y = 1 $$\n\nНайдём значение $ y $:\n\n$$ y = \\frac{1}{0.5} = 2 $$\n\nТеперь найдём $ x $:\n\n$$ x = 2y = 2 \\cdot 2 = 4 $$\n\nИтак, брату сейчас 4 года, а сестре — 2 года."
          },
          "metadata": {}
        }
      ]
    },
    {
      "cell_type": "code",
      "source": [
        "display(Markdown(llm1.invoke(prompt3).content))"
      ],
      "metadata": {
        "colab": {
          "base_uri": "https://localhost:8080/",
          "height": 359
        },
        "id": "OhPiobYEuogs",
        "outputId": "4a5fbfa6-6104-4531-c4b7-1977c4611668"
      },
      "execution_count": 8,
      "outputs": [
        {
          "output_type": "display_data",
          "data": {
            "text/plain": [
              "<IPython.core.display.Markdown object>"
            ],
            "text/markdown": "Вот пример функции на Python, которая считает количество гласных в строке:\n\n```python\ndef count_vowels(text):\n    vowels = 'aeiou'  # Гласные буквы\n    \n    # Преобразуем текст к нижнему регистру и считаем количество гласных\n    return len([char for char in text.lower() if char in vowels])\n```\n\n### Как работает функция:\n1. `vowels = 'aeiou'` – создается строка с гласными буквами.\n2. Входной текст приводится к нижнему регистру (`text.lower()`), чтобы учитывать как прописные, так и строчные гласные.\n3. Мы используем list comprehension для фильтрации всех символов текста, которые являются гласными. Функция `len()` возвращает длину полученного списка, что соответствует количеству гласных.\n\n#### Пример использования:\n```python\nprint(count_vowels(\"Hello World!\"))  # Вывод: 3\nprint(count_vowels(\"Привет мир\"))    # Вывод: 2\n```\n\nВ первом примере \"Hello\" содержит 3 гласные (\"e\", \"o\", \"o\"), а во втором примере \"Привет\" содержит две гласные (\"и\", \"е\")."
          },
          "metadata": {}
        }
      ]
    },
    {
      "cell_type": "code",
      "source": [
        "display(Markdown(llm2.invoke(prompt3).content))"
      ],
      "metadata": {
        "colab": {
          "base_uri": "https://localhost:8080/",
          "height": 233
        },
        "id": "mdbIwAktuqsI",
        "outputId": "74856be8-5818-4f85-aaf2-89fd82622a73"
      },
      "execution_count": 9,
      "outputs": [
        {
          "output_type": "display_data",
          "data": {
            "text/plain": [
              "<IPython.core.display.Markdown object>"
            ],
            "text/markdown": "Вот пример функции на Python, которая подсчитывает количество гласных букв в строке:\n\n```python\ndef count_vowels(s):\n    vowels = 'aeiou'\n    return sum(1 for char in s.lower() if char in vowels)\n```\n\nЭта функция принимает строку `s` в качестве аргумента, переводит её в нижний регистр (`lower()`) и проверяет каждый символ на принадлежность к множеству гласных букв. Функция возвращает сумму всех найденных гласных.\n\nПример использования:\n\n```python\ntext = \"Hello World\"\nprint(count_vowels(text))  # Вывод: 3\n```\n\nЭтот код выведет число 3, потому что в строке \"Hello World\" три гласные буквы: \"e\", \"o\", \"o\"."
          },
          "metadata": {}
        }
      ]
    },
    {
      "cell_type": "code",
      "source": [
        "display(Markdown(llm1.invoke(prompt4).content))"
      ],
      "metadata": {
        "colab": {
          "base_uri": "https://localhost:8080/",
          "height": 64
        },
        "id": "IK4ViJBnus41",
        "outputId": "b02ce457-4f14-4461-9c2b-51c83be90472"
      },
      "execution_count": 10,
      "outputs": [
        {
          "output_type": "display_data",
          "data": {
            "text/plain": [
              "<IPython.core.display.Markdown object>"
            ],
            "text/markdown": "Полуостров, который омывается Охотским, Японским морями и Тихим океаном, называется **Камчатка**. Это крупный полуостров на северо-востоке России, на территории Камчатского края."
          },
          "metadata": {}
        }
      ]
    },
    {
      "cell_type": "code",
      "source": [
        "display(Markdown(llm2.invoke(prompt4).content))"
      ],
      "metadata": {
        "colab": {
          "base_uri": "https://localhost:8080/",
          "height": 46
        },
        "id": "rj1638KTuu-2",
        "outputId": "29b81492-fc82-49a6-bf15-15432f008c83"
      },
      "execution_count": 11,
      "outputs": [
        {
          "output_type": "display_data",
          "data": {
            "text/plain": [
              "<IPython.core.display.Markdown object>"
            ],
            "text/markdown": "Полуостров, который омывается Охотским, Японским морями и непосредственно Тихим океаном — это **Камчатка**."
          },
          "metadata": {}
        }
      ]
    },
    {
      "cell_type": "code",
      "source": [
        "display(Markdown(llm1.invoke(prompt5).content))"
      ],
      "metadata": {
        "colab": {
          "base_uri": "https://localhost:8080/",
          "height": 197
        },
        "id": "CVRhpqtIuytI",
        "outputId": "09310a0b-4b72-4e1b-cd4b-e2a9cbd3219b"
      },
      "execution_count": 12,
      "outputs": [
        {
          "output_type": "display_data",
          "data": {
            "text/plain": [
              "<IPython.core.display.Markdown object>"
            ],
            "text/markdown": "Квантовая запутанность – это удивительное явление, которое происходит на уровне очень маленьких частиц, таких как атомы или электроны. Представь себе, что у тебя есть две монеты, и когда ты подбрасываешь их, они всегда падают орлом или решкой одновременно, независимо от того, насколько далеко друг от друга они находятся. Это и есть пример квантовой запутанности.\n\nВ реальности вместо монет мы говорим о частицах, которые настолько связаны между собой, что если изменить состояние одной (например, заставить её вращаться по-другому), то мгновенно изменится и состояние другой, даже если они находятся на большом расстоянии друг от друга. Например, если одна частица \"решит\" вращаться влево, то другая, хоть она и находится в другом конце Вселенной, сразу начнёт вращаться вправо. И всё это происходит мгновенно, быстрее скорости света!\n\nЭто кажется невероятным, но именно такие странные вещи происходят в мире квантовой физики. Учёные до сих пор пытаются полностью понять этот феномен и найти ему применение, например, в сверхбыстрой передаче информации."
          },
          "metadata": {}
        }
      ]
    },
    {
      "cell_type": "code",
      "source": [
        "display(Markdown(llm2.invoke(prompt5).content))"
      ],
      "metadata": {
        "colab": {
          "base_uri": "https://localhost:8080/",
          "height": 139
        },
        "id": "63ke5EEzu1Cn",
        "outputId": "961b9cd4-816f-44a1-c59a-66a57334bff0"
      },
      "execution_count": 13,
      "outputs": [
        {
          "output_type": "display_data",
          "data": {
            "text/plain": [
              "<IPython.core.display.Markdown object>"
            ],
            "text/markdown": "Представь себе два шарика: один красный, другой синий. Эти шарики связаны невидимой ниточкой, даже когда находятся далеко друг от друга. Если ты раскрашиваешь один шарик красным цветом (это как если бы одна частица приняла определенное состояние), второй шарик сразу становится синим, независимо от расстояния между ними!\n\nЭто пример того, как работает квантовая запутанность. В мире маленьких частиц вроде электронов и фотонов такие странности случаются постоянно. Когда две частицы становятся запутанными, они остаются связанными навсегда, и изменения состояния одной мгновенно влияют на другую, несмотря на расстояние между ними. Ученые до сих пор пытаются разобраться, почему это происходит!"
          },
          "metadata": {}
        }
      ]
    },
    {
      "cell_type": "code",
      "source": [],
      "metadata": {
        "id": "zWSgLPAFvgwd"
      },
      "execution_count": null,
      "outputs": []
    }
  ]
}