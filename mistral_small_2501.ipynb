{
  "nbformat": 4,
  "nbformat_minor": 0,
  "metadata": {
    "colab": {
      "provenance": [],
      "authorship_tag": "ABX9TyNAiOff1nmZZ5LiatAFFUND",
      "include_colab_link": true
    },
    "kernelspec": {
      "name": "python3",
      "display_name": "Python 3"
    },
    "language_info": {
      "name": "python"
    }
  },
  "cells": [
    {
      "cell_type": "markdown",
      "metadata": {
        "id": "view-in-github",
        "colab_type": "text"
      },
      "source": [
        "<a href=\"https://colab.research.google.com/github/trashchenkov/LLM-First-Touch/blob/main/mistral_small_2501.ipynb\" target=\"_parent\"><img src=\"https://colab.research.google.com/assets/colab-badge.svg\" alt=\"Open In Colab\"/></a>"
      ]
    },
    {
      "cell_type": "code",
      "execution_count": 1,
      "metadata": {
        "id": "uJJdWa_m1XHp",
        "colab": {
          "base_uri": "https://localhost:8080/"
        },
        "outputId": "c28cb50b-5c04-4dab-bec1-ff29f289a8d6"
      },
      "outputs": [
        {
          "output_type": "stream",
          "name": "stdout",
          "text": [
            "\u001b[?25l   \u001b[90m━━━━━━━━━━━━━━━━━━━━━━━━━━━━━━━━━━━━━━━━\u001b[0m \u001b[32m0.0/414.1 kB\u001b[0m \u001b[31m?\u001b[0m eta \u001b[36m-:--:--\u001b[0m\r\u001b[2K   \u001b[90m━━━━━━━━━━━━━━━━━━━━━━━━━━━━━━━━━━━━━━━━\u001b[0m \u001b[32m414.1/414.1 kB\u001b[0m \u001b[31m16.9 MB/s\u001b[0m eta \u001b[36m0:00:00\u001b[0m\n",
            "\u001b[?25h"
          ]
        }
      ],
      "source": [
        "!pip -q install -U langchain-core langchain-mistralai"
      ]
    },
    {
      "cell_type": "code",
      "source": [
        "from langchain_core.messages import HumanMessage, SystemMessage\n",
        "from langchain_mistralai.chat_models import ChatMistralAI"
      ],
      "metadata": {
        "id": "IICFgwjF5Aww"
      },
      "execution_count": 2,
      "outputs": []
    },
    {
      "cell_type": "code",
      "source": [
        "from google.colab import userdata\n",
        "auth = userdata.get('MISTRAL')"
      ],
      "metadata": {
        "id": "z3ovbfIs5Z2I"
      },
      "execution_count": 3,
      "outputs": []
    },
    {
      "cell_type": "code",
      "source": [
        "chat = ChatMistralAI(\n",
        "    model=\"mistral-small-2501\",\n",
        "    api_key=auth\n",
        ")\n"
      ],
      "metadata": {
        "id": "elHQxu285Lzn"
      },
      "execution_count": 4,
      "outputs": []
    },
    {
      "cell_type": "code",
      "source": [
        "from IPython.display import display, Markdown\n",
        "\n",
        "messages = [HumanMessage(content='Когда уже ИИ заменит человеческий труд?')]\n",
        "response = chat.invoke(messages)\n",
        "\n",
        "display(Markdown(response.content))"
      ],
      "metadata": {
        "colab": {
          "base_uri": "https://localhost:8080/",
          "height": 667
        },
        "id": "u62XZOgY5h-1",
        "outputId": "c03f7e21-df29-4c6f-885e-9928c085a1ce"
      },
      "execution_count": 5,
      "outputs": [
        {
          "output_type": "display_data",
          "data": {
            "text/plain": [
              "<IPython.core.display.Markdown object>"
            ],
            "text/markdown": "Вопрос о том, когда искусственный интеллект (ИИ) заменит человеческий труд, является сложным и многогранным. Ответ на него зависит от множества факторов, включая технические возможности, экономические условия, социальные и этические аспекты, а также регулирование и законодательство.\n\n### Технические возможности\nСейчас ИИ уже активно используется в различных отраслях, таких как здравоохранение, финансы, транспорт и производство. Однако полное замещение человеческого труда в большинстве профессий требует значительных технологических прорывов. Например, ИИ уже может выполнять рутинные задачи, такие как обработка данных и выполнение повторяющихся операций, но для выполнения более сложных задач, требующих креативности, эмпатии и критического мышления, потребуется больше времени.\n\n### Экономические условия\nЭкономические факторы также играют важную роль. Введение ИИ может привести к значительным изменениям на рынке труда, включая создание новых рабочих мест и изменение существующих. Компании могут быть заинтересованы в автоматизации для повышения эффективности и снижения затрат, но это также может привести к сокращению рабочих мест в некоторых отраслях.\n\n### Социальные и этические аспекты\nЗамена человеческого труда ИИ поднимает множество социальных и этических вопросов. Например, как обеспечить справедливое распределение благ, если значительная часть населения потеряет работу? Как поддерживать социальную стабильность в условиях массовой безработицы? Эти вопросы требуют комплексного подхода и участия различных заинтересованных сторон, включая правительства, бизнесы и общественные организации.\n\n### Регулирование и законодательство\nРегулирование и законодательство также будут играть ключевую роль в том, как и когда ИИ будет заменять человеческий труд. Правительства могут вводить законы и нормативные акты, направленные на защиту рабочих мест, обеспечение справедливого распределения доходов и регулирование использования ИИ.\n\n### Прогнозы\nЭксперты делают различные прогнозы о том, когда ИИ может заменить значительную часть человеческого труда. Некоторые считают, что это произойдет в ближайшие десятилетия, другие — что это займет несколько поколений. Важно понимать, что процесс будет постепенным и неравномерным, с различными темпами в разных отраслях и регионах.\n\n### Заключение\nПолное замещение человеческого труда ИИ — это не вопрос \"когда\", а скорее вопрос \"как\". Важно, чтобы общество готовилось к этим изменениям, разрабатывая стратегии для поддержки рабочих, адаптируя образовательные программы и создавая новые возможности для занятости."
          },
          "metadata": {}
        }
      ]
    },
    {
      "cell_type": "code",
      "source": [],
      "metadata": {
        "id": "Ia1Mrde31VFF"
      },
      "execution_count": null,
      "outputs": []
    }
  ]
}